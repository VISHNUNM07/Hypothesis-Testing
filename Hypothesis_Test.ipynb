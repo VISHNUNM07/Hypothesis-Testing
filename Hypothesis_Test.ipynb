{
  "nbformat": 4,
  "nbformat_minor": 0,
  "metadata": {
    "colab": {
      "provenance": []
    },
    "kernelspec": {
      "name": "python3",
      "display_name": "Python 3"
    },
    "language_info": {
      "name": "python"
    }
  },
  "cells": [
    {
      "cell_type": "markdown",
      "source": [
        "# **HYPOTHESIS TESTING**"
      ],
      "metadata": {
        "id": "MyRl045IHlKz"
      }
    },
    {
      "cell_type": "markdown",
      "source": [
        "# **1.State the Hypotheses Statement:**\n",
        "\n",
        "**Hypothesis testing is a statistical method that is used in making statistical decisions using experimental data.Hypothesis testing is basically an assumption that we make about the population parameter.**\n",
        "\n",
        "**--> Null Hypothesis(H0):Argument made so far,or hypothesis saying that there is no change or difference.**\n",
        "\n",
        "**--> Alternative Hypothesis(H1):New argument,that is a hypothesis that you want to prove with solid ground obtained from sample.**"
      ],
      "metadata": {
        "id": "EyLBFolPHml6"
      }
    },
    {
      "cell_type": "markdown",
      "source": [
        "# **2.Calculate the Test Statistic:**"
      ],
      "metadata": {
        "id": "2vxcitpuIFc6"
      }
    },
    {
      "cell_type": "code",
      "source": [
        "import numpy as np\n",
        "from scipy.stats import t"
      ],
      "metadata": {
        "id": "nanMlv7mIIWS"
      },
      "execution_count": 9,
      "outputs": []
    },
    {
      "cell_type": "code",
      "source": [
        "x_bar = 3050\n",
        "mu = 1000 +5 * 600\n",
        "sigma = 5*25\n",
        "n = 25\n",
        "\n",
        "t_statistic = (x_bar -mu)/(sigma / np.sqrt(n))\n",
        "t_statistic"
      ],
      "metadata": {
        "colab": {
          "base_uri": "https://localhost:8080/"
        },
        "id": "vJzOgwkUJHI6",
        "outputId": "14876f0c-ed95-4237-be14-a4640f99986c"
      },
      "execution_count": 6,
      "outputs": [
        {
          "output_type": "execute_result",
          "data": {
            "text/plain": [
              "-38.0"
            ]
          },
          "metadata": {},
          "execution_count": 6
        }
      ]
    },
    {
      "cell_type": "markdown",
      "source": [
        "**where:**\n",
        "\n",
        "**.x_bar = sample mean weekly cost(Rs.3,050)**\n",
        "\n",
        "**.mu = theoretical mean weekly cost according to the cost model(w = 1000+5x for x = 600 units)**\n",
        "\n",
        "**.sigma = 5*25 units**\n",
        "\n",
        "**.n = sample size(25 restaurants)**"
      ],
      "metadata": {
        "id": "-xvu1l5fKGUG"
      }
    },
    {
      "cell_type": "markdown",
      "source": [
        "# **Define the Critical Value**"
      ],
      "metadata": {
        "id": "1BLdQsn3KZed"
      }
    },
    {
      "cell_type": "markdown",
      "source": [
        "**Using the alpha level of 5% (α = 0.05),determine the critical value from the standarad normal(Z) distribution table.**"
      ],
      "metadata": {
        "id": "HgjI98miKjeU"
      }
    },
    {
      "cell_type": "code",
      "source": [
        "alpha = 0.05    #significance level\n",
        "df = n-1        #Degrees of freedom (df)=sample size - 1\n",
        "critical_value = t.ppf(1-alpha,df)\n",
        "critical_value"
      ],
      "metadata": {
        "colab": {
          "base_uri": "https://localhost:8080/"
        },
        "id": "oc1FRhibJHMU",
        "outputId": "ffb7c762-e8f7-4518-8536-4af62d953536"
      },
      "execution_count": 10,
      "outputs": [
        {
          "output_type": "execute_result",
          "data": {
            "text/plain": [
              "1.7108820799094275"
            ]
          },
          "metadata": {},
          "execution_count": 10
        }
      ]
    },
    {
      "cell_type": "markdown",
      "source": [
        "# **4. Make a Decision:**"
      ],
      "metadata": {
        "id": "E_CGbhIyMTys"
      }
    },
    {
      "cell_type": "code",
      "source": [
        "if t_statistic > critical_value:\n",
        "  print(\"Reject the null hypothesis\")\n",
        "else:\n",
        "  print(\"Accept the null hypothesis\")"
      ],
      "metadata": {
        "colab": {
          "base_uri": "https://localhost:8080/"
        },
        "id": "yVCZCe3AMTZA",
        "outputId": "d94beaaf-a0c0-419a-9e60-8875838cc17b"
      },
      "execution_count": 11,
      "outputs": [
        {
          "output_type": "stream",
          "name": "stdout",
          "text": [
            "Accept the null hypothesis\n"
          ]
        }
      ]
    },
    {
      "cell_type": "markdown",
      "source": [
        "# **5.Conclusion**\n",
        "\n",
        "**Based on the decision in step4,conclude whether there is strong evidence to support the restaurant owners claim that the weekly operating costs are higher than the model suggests.**\n",
        "\n",
        "**There is no enough evidence to support the claim that the weekly operating costs are higher than the model suggests.**"
      ],
      "metadata": {
        "id": "TbLvUjgbMugg"
      }
    }
  ]
}